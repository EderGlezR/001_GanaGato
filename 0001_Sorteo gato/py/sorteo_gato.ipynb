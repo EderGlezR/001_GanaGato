{
 "cells": [
  {
   "cell_type": "code",
   "execution_count": 12,
   "id": "52f72fd3",
   "metadata": {},
   "outputs": [
    {
     "data": {
      "text/plain": [
       "'\\nAuthor: Eder González Ramos\\nDate:2023 0922\\nDescription:\\n'"
      ]
     },
     "execution_count": 12,
     "metadata": {},
     "output_type": "execute_result"
    }
   ],
   "source": [
    "\"\"\"\n",
    "Author: Eder González Ramos\n",
    "Date:2023 0922\n",
    "Description: It uses information from \"Loteria nacional\", a mexican gambling institution, \n",
    "to calculate what the best number to bet in the game \"Gato\"\n",
    "Where you should guess the X's in order to form lines, # is a wildcard\n",
    "X1___X2___X3\n",
    "X4___ # __X5\n",
    "X6___X7___X8\n",
    "_\n",
    "\"\"\""
   ]
  },
  {
   "cell_type": "code",
   "execution_count": 2,
   "id": "bfc48162",
   "metadata": {},
   "outputs": [],
   "source": [
    "###Libraries\n",
    "import pandas as pd\n",
    "import numpy as np\n",
    "import matplotlib as plt\n"
   ]
  },
  {
   "cell_type": "code",
   "execution_count": 3,
   "id": "8d9ab444",
   "metadata": {},
   "outputs": [],
   "source": [
    "###Paths\n",
    "path=\"C:/Users/g_onz/Dropbox/Proyectos_Data/0001_Sorteo gato/\"\n",
    "raw_path=\"raw/\"\n",
    "raw_file=\"GanaGato.csv\""
   ]
  },
  {
   "cell_type": "code",
   "execution_count": 15,
   "id": "c02ed832",
   "metadata": {},
   "outputs": [],
   "source": [
    "###Importing raw file\n",
    "df_0 = pd.read_csv(path + raw_path + raw_file )\n",
    "df=df_0\n",
    "df.columns=df.columns.str.lower()\n"
   ]
  },
  {
   "cell_type": "code",
   "execution_count": 16,
   "id": "4ab953f7",
   "metadata": {},
   "outputs": [],
   "source": [
    "list_resultados=[]\n",
    "\n",
    "#Making a mix to numbers to bet and compare against the historical results\n",
    "for i8 in range (1,6):\n",
    "    for i7 in range (1,6):\n",
    "        for i6 in range(1,6):\n",
    "            for i5 in range(1,6):\n",
    "                for i4 in range(1,6):\n",
    "                    for i3 in  range(1,6):\n",
    "                        for i2 in range(1,6):\n",
    "                            for i1 in range(1,6):\n",
    "                                a1, a2, a3, a4,a5 ,a6 ,a7 , a8 = i1,i2,i3,i4,i5,i6,i7,i8\n",
    "                                sorteo=[a1,a2,a3,a4,a5,a6,a7,a8]\n",
    "                              \n",
    "                                df[\"l1\"]=np.where((df['f1']==sorteo[0]) & (df['f2']==sorteo[1]) & (df['f3']==sorteo[2]),1,0)\n",
    "                                df[\"l2\"]=np.where((df['f1']==sorteo[0]) & (df['f4']==sorteo[3]) & (df['f6']==sorteo[5]),1,0)\n",
    "                                df[\"l3\"]=np.where((df['f3']==sorteo[2]) & (df['f5']==sorteo[4]) & (df['f8']==sorteo[7]),1,0)\n",
    "                                df[\"l4\"]=np.where((df['f6']==sorteo[5]) & (df['f7']==sorteo[6]) & (df['f8']==sorteo[7]),1,0)\n",
    "                                df[\"l5\"]=np.where((df['f2']==sorteo[1]) & (df['f7']==sorteo[6]) ,1,0)\n",
    "                                df[\"l6\"]=np.where((df['f1']==sorteo[0]) & (df['f8']==sorteo[7]) ,1,0)\n",
    "                                df[\"l7\"]=np.where((df['f3']==sorteo[2]) & (df['f6']==sorteo[5]) ,1,0)\n",
    "                                df[\"l8\"]=np.where((df['f4']==sorteo[3]) & (df['f5']==sorteo[4]) ,1,0)\n",
    "                                df[\"lines\"]=df[\"l1\"] + df[\"l2\"] + df[\"l3\"] + df[\"l4\"] + df[\"l5\"] + df[\"l6\"]+  df[\"l7\"] +df[\"l8\"]\n",
    "                              \n",
    "                                den=(len(df['lines']))\n",
    "                                list_prob=[]\n",
    "                                for i in range(1,9):\n",
    "                                    num=len(df[df['lines']==i])\n",
    "                                    if num==0:\n",
    "                                         prob=0\n",
    "                                    else:\n",
    "                                         prob=round((num/den)*100,2)\n",
    "                                    list_prob.append(prob)\n",
    "                              \n",
    "                                list_resultados.append([sorteo,list_prob])"
   ]
  },
  {
   "cell_type": "code",
   "execution_count": 23,
   "id": "7d10f531",
   "metadata": {},
   "outputs": [],
   "source": [
    "#Translating information into a Dataframe \n",
    "\n",
    "df=pd.DataFrame(list_resultados)\n",
    "df=df.iloc[:,1]\n",
    "df=df.to_list()\n",
    "df=pd.DataFrame(df)\n",
    "df.columns=[\"1\",\"2\",\"3\",\"4\",\"5\",\"6\",\"7\",\"8\"]\n",
    "maxs=df[\"8\"].max()\n",
    "df=df[df['8']==maxs]\n",
    "df = df.sort_values([\"8\",\"7\",\"6\",\"5\",\"4\",\"3\",\"2\",\"1\"] ,ascending=False)\n",
    "      \n",
    "df.to_pickle(path +raw_path+\"temp.pkl\")"
   ]
  },
  {
   "cell_type": "code",
   "execution_count": 4,
   "id": "d070b1c2",
   "metadata": {},
   "outputs": [
    {
     "ename": "NameError",
     "evalue": "name 'df' is not defined",
     "output_type": "error",
     "traceback": [
      "\u001b[1;31m---------------------------------------------------------------------------\u001b[0m",
      "\u001b[1;31mNameError\u001b[0m                                 Traceback (most recent call last)",
      "Cell \u001b[1;32mIn[4], line 1\u001b[0m\n\u001b[1;32m----> 1\u001b[0m df\u001b[38;5;241m=\u001b[39m\u001b[43mdf\u001b[49m\u001b[38;5;241m.\u001b[39mread_pickle(path \u001b[38;5;241m+\u001b[39mraw_path\u001b[38;5;241m+\u001b[39m\u001b[38;5;124m\"\u001b[39m\u001b[38;5;124mtemp.pkl\u001b[39m\u001b[38;5;124m\"\u001b[39m)\n\u001b[0;32m      2\u001b[0m final_list\u001b[38;5;241m=\u001b[39m[]\n\u001b[0;32m      3\u001b[0m \u001b[38;5;28;01mfor\u001b[39;00m i \u001b[38;5;129;01min\u001b[39;00m df\u001b[38;5;241m.\u001b[39mindex:\n",
      "\u001b[1;31mNameError\u001b[0m: name 'df' is not defined"
     ]
    }
   ],
   "source": [
    "final_list=[]\n",
    "for i in df.index:\n",
    "    print(list_resultados[i][0])\n",
    "    final_list.append(list_resultados[i][0])\n",
    "final_list=pd.DataFrame(final_list, columns=[\"1\",\"2\",\"3\",\"4\",\"5\",\"6\",\"7\",\"8\"])"
   ]
  },
  {
   "cell_type": "code",
   "execution_count": 1,
   "id": "230895fd",
   "metadata": {},
   "outputs": [
    {
     "ename": "NameError",
     "evalue": "name 'final_list' is not defined",
     "output_type": "error",
     "traceback": [
      "\u001b[1;31m---------------------------------------------------------------------------\u001b[0m",
      "\u001b[1;31mNameError\u001b[0m                                 Traceback (most recent call last)",
      "Cell \u001b[1;32mIn[1], line 1\u001b[0m\n\u001b[1;32m----> 1\u001b[0m \u001b[43mfinal_list\u001b[49m[\u001b[38;5;241m0\u001b[39m]\n",
      "\u001b[1;31mNameError\u001b[0m: name 'final_list' is not defined"
     ]
    }
   ],
   "source": [
    "print(\"The best option is:\")\n",
    "print(final_list[0])"
   ]
  },
  {
   "cell_type": "code",
   "execution_count": null,
   "id": "bbf2c0f1",
   "metadata": {},
   "outputs": [],
   "source": []
  }
 ],
 "metadata": {
  "kernelspec": {
   "display_name": "Python 3 (ipykernel)",
   "language": "python",
   "name": "python3"
  },
  "language_info": {
   "codemirror_mode": {
    "name": "ipython",
    "version": 3
   },
   "file_extension": ".py",
   "mimetype": "text/x-python",
   "name": "python",
   "nbconvert_exporter": "python",
   "pygments_lexer": "ipython3",
   "version": "3.9.12"
  }
 },
 "nbformat": 4,
 "nbformat_minor": 5
}
